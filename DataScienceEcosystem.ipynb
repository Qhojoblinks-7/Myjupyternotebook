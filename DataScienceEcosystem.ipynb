{
 "cells": [
  {
   "cell_type": "markdown",
   "id": "51c6cc12-dc27-40e5-a790-6ce4e6df2836",
   "metadata": {
    "tags": []
   },
   "source": [
    "# H1: Data Science Tools and Ecosystem"
   ]
  },
  {
   "cell_type": "markdown",
   "id": "1c96ae91-d90e-41a7-9d75-a0545357eae0",
   "metadata": {},
   "source": [
    "## In this notebook, Data Science Tools and Ecosystem are summarized."
   ]
  },
  {
   "cell_type": "markdown",
   "id": "16bccc9e-b75a-45df-ad27-ea61fa722885",
   "metadata": {},
   "source": [
    "**Objective**\n",
    "### In this notebook I:\n",
    "- Created a Jupyter Notebook\n",
    "- Created markdown cell with title of the notebook\n",
    "- Created a markdown cell for an introduction\n",
    "- Created a markdown cell to list data science languages\n",
    "- Created a markdown cell to list data science libraries\n",
    "- Created a markdown cell with a table of Data Science tools\n",
    "- Created a markdown cell introducing arithmetic expression examples\n",
    "- Created a code cell to multiply and add numbers\n",
    "- Created a code cell to convert minutes to hours\n",
    "- Inserted a markdown cell to list Objectives\n",
    "- Created a markdown cell to indicate the Author's name"
   ]
  },
  {
   "cell_type": "markdown",
   "id": "5ac9ab13-2042-4266-ba0e-ac60a6ff126e",
   "metadata": {
    "tags": []
   },
   "source": [
    "#### Some of the popular languages that Data Scientists use are:\n",
    "1. Python\n",
    "2. Julia\n",
    "3. R"
   ]
  },
  {
   "cell_type": "markdown",
   "id": "6513aba9-e35b-4472-9ac3-26db9fb5a416",
   "metadata": {},
   "source": [
    "#### Some of the commonly used libraries used by Data Scientists include:\n",
    "1. Numpy\n",
    "2. Tensorflow\n",
    "3. Scipy\n",
    "4. Matplotlib"
   ]
  },
  {
   "cell_type": "markdown",
   "id": "70fe9cd5-22f6-4c6a-89cf-a9fe91ffd555",
   "metadata": {},
   "source": [
    "|Data Science Tools|\n",
    "|------------------|\n",
    "|Apche Spark|\n",
    "|Python|\n",
    "|Scikit-learn|"
   ]
  },
  {
   "cell_type": "markdown",
   "id": "f5f85ab0-2623-4e3a-bcd3-3004098785a8",
   "metadata": {
    "tags": []
   },
   "source": [
    "# H3: Below are a few examples of evaluating arithmetic expressions in Python"
   ]
  },
  {
   "cell_type": "code",
   "execution_count": 7,
   "id": "b16bee79-23c8-4cd1-8267-392bf987f333",
   "metadata": {
    "tags": []
   },
   "outputs": [
    {
     "data": {
      "text/plain": [
       "17"
      ]
     },
     "execution_count": 7,
     "metadata": {},
     "output_type": "execute_result"
    }
   ],
   "source": [
    "# This a simple arithmetic expression to mutiply then add integers\n",
    "(3 * 4)+5"
   ]
  },
  {
   "cell_type": "code",
   "execution_count": 8,
   "id": "2bd179b1-2235-44c9-bf80-57d1a15b4233",
   "metadata": {
    "tags": []
   },
   "outputs": [
    {
     "data": {
      "text/plain": [
       "3.3333333333333335"
      ]
     },
     "execution_count": 8,
     "metadata": {},
     "output_type": "execute_result"
    }
   ],
   "source": [
    "# This will convert 200 minutes to hours by diving by 60\n",
    "200 / 60"
   ]
  },
  {
   "cell_type": "markdown",
   "id": "ef4d2820-dae2-4467-887e-a4a8a8f48e89",
   "metadata": {},
   "source": [
    "# H2: Author\n",
    "### Immanuel Eshun"
   ]
  }
 ],
 "metadata": {
  "kernelspec": {
   "display_name": "Python",
   "language": "python",
   "name": "conda-env-python-py"
  },
  "language_info": {
   "codemirror_mode": {
    "name": "ipython",
    "version": 3
   },
   "file_extension": ".py",
   "mimetype": "text/x-python",
   "name": "python",
   "nbconvert_exporter": "python",
   "pygments_lexer": "ipython3",
   "version": "3.7.12"
  }
 },
 "nbformat": 4,
 "nbformat_minor": 5
}
